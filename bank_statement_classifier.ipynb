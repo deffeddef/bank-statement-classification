{
 "cells": [
  {
   "cell_type": "markdown",
   "metadata": {},
   "source": [
    "# Bank Statement Classification"
   ]
  },
  {
   "cell_type": "code",
   "execution_count": 264,
   "metadata": {},
   "outputs": [],
   "source": [
    "import pandas as pd\n",
    "from sklearn.model_selection import train_test_split\n",
    "import numpy as np\n",
    "from xgboost import XGBClassifier\n",
    "import category_encoders as ce\n",
    "from sklearn.metrics import (make_scorer, accuracy_score, matthews_corrcoef, f1_score, precision_score, \n",
    "recall_score, classification_report, confusion_matrix)\n",
    "from skopt import BayesSearchCV\n",
    "import seaborn as sns\n",
    "import matplotlib.pyplot as plt\n",
    "import matplotlib\n",
    "import warnings\n",
    "pd.options.mode.chained_assignment = None"
   ]
  },
  {
   "cell_type": "code",
   "execution_count": 265,
   "metadata": {},
   "outputs": [],
   "source": [
    "df = pd.read_csv('bankstatement.csv')"
   ]
  },
  {
   "cell_type": "markdown",
   "metadata": {},
   "source": [
    "# Quick Analysis + Baseline\n",
    "\n",
    "After importing the necessary libraries and the dataset, let's take a look at it."
   ]
  },
  {
   "cell_type": "code",
   "execution_count": 266,
   "metadata": {},
   "outputs": [
    {
     "data": {
      "text/html": [
       "<div>\n",
       "<style scoped>\n",
       "    .dataframe tbody tr th:only-of-type {\n",
       "        vertical-align: middle;\n",
       "    }\n",
       "\n",
       "    .dataframe tbody tr th {\n",
       "        vertical-align: top;\n",
       "    }\n",
       "\n",
       "    .dataframe thead th {\n",
       "        text-align: right;\n",
       "    }\n",
       "</style>\n",
       "<table border=\"1\" class=\"dataframe\">\n",
       "  <thead>\n",
       "    <tr style=\"text-align: right;\">\n",
       "      <th></th>\n",
       "      <th>is_correct_linking</th>\n",
       "      <th>payable_amount</th>\n",
       "      <th>payable_counter_party_name</th>\n",
       "      <th>payable_date_occurred</th>\n",
       "      <th>payable_direction</th>\n",
       "      <th>payable_document_type</th>\n",
       "      <th>payable_due_date</th>\n",
       "      <th>payable_due_date_with_early_payment_discount</th>\n",
       "      <th>payable_early_payment_discount_percent</th>\n",
       "      <th>payable_origin</th>\n",
       "      <th>payment_account_type</th>\n",
       "      <th>payment_amount</th>\n",
       "      <th>payable_reference</th>\n",
       "      <th>payment_counter_party_name</th>\n",
       "      <th>payment_date</th>\n",
       "      <th>payment_direction</th>\n",
       "      <th>payment_origin</th>\n",
       "      <th>payment_reference</th>\n",
       "    </tr>\n",
       "  </thead>\n",
       "  <tbody>\n",
       "    <tr>\n",
       "      <th>0</th>\n",
       "      <td>0</td>\n",
       "      <td>416.21</td>\n",
       "      <td>\"Mystica\" e.V.</td>\n",
       "      <td>2018-02-28</td>\n",
       "      <td>incoming</td>\n",
       "      <td>Invoice</td>\n",
       "      <td>2018-03-30</td>\n",
       "      <td>NaN</td>\n",
       "      <td>0.0</td>\n",
       "      <td>supplier</td>\n",
       "      <td>bank_account</td>\n",
       "      <td>604.44</td>\n",
       "      <td>8121837424</td>\n",
       "      <td>Kolde Stadtpalais GmbH &amp; Co. KG</td>\n",
       "      <td>2018-04-25</td>\n",
       "      <td>outgoing</td>\n",
       "      <td>supplier</td>\n",
       "      <td>Eref+92278-1 Vom 20180423 Mref+110140.13 Cred+...</td>\n",
       "    </tr>\n",
       "    <tr>\n",
       "      <th>1</th>\n",
       "      <td>0</td>\n",
       "      <td>49.83</td>\n",
       "      <td>Rußlandhilfe e.V.</td>\n",
       "      <td>2018-03-19</td>\n",
       "      <td>incoming</td>\n",
       "      <td>Invoice</td>\n",
       "      <td>2018-04-18</td>\n",
       "      <td>NaN</td>\n",
       "      <td>0.0</td>\n",
       "      <td>supplier</td>\n",
       "      <td>bank_account</td>\n",
       "      <td>19.87</td>\n",
       "      <td>5085056351</td>\n",
       "      <td>Fernseh-Hartmann GmbH</td>\n",
       "      <td>2018-02-23</td>\n",
       "      <td>outgoing</td>\n",
       "      <td>supplier</td>\n",
       "      <td>Eref+1507525303893117 Mref+7Xp2X3Y0Njvbgmdx)1L...</td>\n",
       "    </tr>\n",
       "    <tr>\n",
       "      <th>2</th>\n",
       "      <td>0</td>\n",
       "      <td>86.01</td>\n",
       "      <td>E.S.I. GmbH Energie-Service-Immobilien</td>\n",
       "      <td>2018-03-01</td>\n",
       "      <td>incoming</td>\n",
       "      <td>Invoice</td>\n",
       "      <td>NaN</td>\n",
       "      <td>NaN</td>\n",
       "      <td>NaN</td>\n",
       "      <td>supplier</td>\n",
       "      <td>bank_account</td>\n",
       "      <td>54.95</td>\n",
       "      <td>102753289</td>\n",
       "      <td>Vermögensverwaltung Grefer GmbH &amp; Co. KG</td>\n",
       "      <td>2018-03-13</td>\n",
       "      <td>incoming</td>\n",
       "      <td>supplier</td>\n",
       "      <td>D201945, RG B1716914/R066762 (104,80 EUR), Ers...</td>\n",
       "    </tr>\n",
       "    <tr>\n",
       "      <th>3</th>\n",
       "      <td>0</td>\n",
       "      <td>16.99</td>\n",
       "      <td>Klar Plus GmbH</td>\n",
       "      <td>2018-06-09</td>\n",
       "      <td>incoming</td>\n",
       "      <td>ForeignInvoice</td>\n",
       "      <td>2018-07-09</td>\n",
       "      <td>NaN</td>\n",
       "      <td>NaN</td>\n",
       "      <td>supplier</td>\n",
       "      <td>credit_card</td>\n",
       "      <td>295.00</td>\n",
       "      <td>Klar Plus GmbH 09/06/2018</td>\n",
       "      <td>DOC-Gastro GmbH</td>\n",
       "      <td>2018-07-03</td>\n",
       "      <td>outgoing</td>\n",
       "      <td>supplier</td>\n",
       "      <td>0307 30.06 DOC-Gastro GmbH IE DUBLIN 6</td>\n",
       "    </tr>\n",
       "    <tr>\n",
       "      <th>4</th>\n",
       "      <td>1</td>\n",
       "      <td>12.28</td>\n",
       "      <td>WEKA-Solvent-Vertriebs GmbH</td>\n",
       "      <td>2018-07-17</td>\n",
       "      <td>incoming</td>\n",
       "      <td>Receipt</td>\n",
       "      <td>2018-07-17</td>\n",
       "      <td>NaN</td>\n",
       "      <td>NaN</td>\n",
       "      <td>supplier</td>\n",
       "      <td>cash_register</td>\n",
       "      <td>12.28</td>\n",
       "      <td>NaN</td>\n",
       "      <td>T-R RE-Fund I GmbH &amp; Co. Retail 13 KG</td>\n",
       "      <td>2018-07-17</td>\n",
       "      <td>outgoing</td>\n",
       "      <td>supplier</td>\n",
       "      <td>17.07.18, T-R RE-Fund I GmbH &amp; Co. Retail 13 KG</td>\n",
       "    </tr>\n",
       "  </tbody>\n",
       "</table>\n",
       "</div>"
      ],
      "text/plain": [
       "   is_correct_linking  payable_amount              payable_counter_party_name  \\\n",
       "0                   0          416.21                          \"Mystica\" e.V.   \n",
       "1                   0           49.83                       Rußlandhilfe e.V.   \n",
       "2                   0           86.01  E.S.I. GmbH Energie-Service-Immobilien   \n",
       "3                   0           16.99                          Klar Plus GmbH   \n",
       "4                   1           12.28             WEKA-Solvent-Vertriebs GmbH   \n",
       "\n",
       "  payable_date_occurred payable_direction payable_document_type  \\\n",
       "0            2018-02-28          incoming               Invoice   \n",
       "1            2018-03-19          incoming               Invoice   \n",
       "2            2018-03-01          incoming               Invoice   \n",
       "3            2018-06-09          incoming        ForeignInvoice   \n",
       "4            2018-07-17          incoming               Receipt   \n",
       "\n",
       "  payable_due_date payable_due_date_with_early_payment_discount  \\\n",
       "0       2018-03-30                                          NaN   \n",
       "1       2018-04-18                                          NaN   \n",
       "2              NaN                                          NaN   \n",
       "3       2018-07-09                                          NaN   \n",
       "4       2018-07-17                                          NaN   \n",
       "\n",
       "   payable_early_payment_discount_percent payable_origin payment_account_type  \\\n",
       "0                                     0.0       supplier         bank_account   \n",
       "1                                     0.0       supplier         bank_account   \n",
       "2                                     NaN       supplier         bank_account   \n",
       "3                                     NaN       supplier          credit_card   \n",
       "4                                     NaN       supplier        cash_register   \n",
       "\n",
       "   payment_amount          payable_reference  \\\n",
       "0          604.44                 8121837424   \n",
       "1           19.87                 5085056351   \n",
       "2           54.95                  102753289   \n",
       "3          295.00  Klar Plus GmbH 09/06/2018   \n",
       "4           12.28                        NaN   \n",
       "\n",
       "                 payment_counter_party_name payment_date payment_direction  \\\n",
       "0           Kolde Stadtpalais GmbH & Co. KG   2018-04-25          outgoing   \n",
       "1                     Fernseh-Hartmann GmbH   2018-02-23          outgoing   \n",
       "2  Vermögensverwaltung Grefer GmbH & Co. KG   2018-03-13          incoming   \n",
       "3                           DOC-Gastro GmbH   2018-07-03          outgoing   \n",
       "4     T-R RE-Fund I GmbH & Co. Retail 13 KG   2018-07-17          outgoing   \n",
       "\n",
       "  payment_origin                                  payment_reference  \n",
       "0       supplier  Eref+92278-1 Vom 20180423 Mref+110140.13 Cred+...  \n",
       "1       supplier  Eref+1507525303893117 Mref+7Xp2X3Y0Njvbgmdx)1L...  \n",
       "2       supplier  D201945, RG B1716914/R066762 (104,80 EUR), Ers...  \n",
       "3       supplier             0307 30.06 DOC-Gastro GmbH IE DUBLIN 6  \n",
       "4       supplier   17.07.18, T-R RE-Fund I GmbH & Co. Retail 13 KG   "
      ]
     },
     "execution_count": 266,
     "metadata": {},
     "output_type": "execute_result"
    }
   ],
   "source": [
    "df.head()"
   ]
  },
  {
   "cell_type": "markdown",
   "metadata": {},
   "source": [
    "Looking at just the first 5 rows, I notice that for the first 4 rows, which are classified as 'not linked correctly' with the value 0, the values in the columns \"payable amount\" and \"payment amount\" are not the equal, while for the 5th row, which is classified as 1 or \"correctly linked\", the values are equal. Maybe this might help us creating a highly predictive feature with only a little effort"
   ]
  },
  {
   "cell_type": "code",
   "execution_count": 267,
   "metadata": {},
   "outputs": [
    {
     "data": {
      "image/png": "[encoded data removed]",
      "text/plain": [
       "<Figure size 1728x576 with 1 Axes>"
      ]
     },
     "metadata": {},
     "output_type": "display_data"
    }
   ],
   "source": [
    "plt.figure(figsize=(24, 8))\n",
    "sns.set(font_scale=2)\n",
    "ax = sns.countplot(x=\"is_correct_linking\", data=df)\n",
    "ax.set_xticklabels(ax.get_xticklabels(), rotation=40, ha=\"right\")\n",
    "plt.show()"
   ]
  },
  {
   "cell_type": "markdown",
   "metadata": {},
   "source": [
    "But let's take a look at the distribution of the target feature to create a baseline. As we can see around 2/3 of the data is labeled as \"not correctly linked\" or 1, so 1/3 is correctly labeled."
   ]
  },
  {
   "cell_type": "code",
   "execution_count": 268,
   "metadata": {},
   "outputs": [
    {
     "data": {
      "text/plain": [
       "69.0"
      ]
     },
     "execution_count": 268,
     "metadata": {},
     "output_type": "execute_result"
    }
   ],
   "source": [
    "np.round(len(df[df['is_correct_linking']==0])/len(df),2)*100"
   ]
  },
  {
   "cell_type": "markdown",
   "metadata": {},
   "source": [
    "This is verified and we can see that the majority class of 0 is 69% of all the data. This number will serve as the baseline accuracy for our model, as a lazy algorithm could just predict everything as 0 and would achieve a 69% accuracy with this approach. So for our model to add value, it will have to outperform this."
   ]
  },
  {
   "cell_type": "code",
   "execution_count": 269,
   "metadata": {},
   "outputs": [],
   "source": [
    "same = []\n",
    "for row, row1 in zip(df['payable_amount'].iteritems(), df['payment_amount'].iteritems()):\n",
    "    if row == row1:\n",
    "        same.append(1)\n",
    "    else:\n",
    "        same.append(0)"
   ]
  },
  {
   "cell_type": "code",
   "execution_count": 270,
   "metadata": {},
   "outputs": [],
   "source": [
    "df['payable_payment_same'] = same"
   ]
  },
  {
   "cell_type": "markdown",
   "metadata": {},
   "source": [
    "But, let's get back to the initial intuition that the correctly linked data points have the same value in both \"payable amount\" and \"payment amount\" columns. So here we create an empty list and write a for-loop that adds the value 1 if for in each row respectively, the values both fields are equal and adds a 0 to the list, if they are different. we then simply append this list to our original dataframe as a new column."
   ]
  },
  {
   "cell_type": "code",
   "execution_count": 271,
   "metadata": {},
   "outputs": [],
   "source": [
    "df = df[['is_correct_linking', 'payable_amount', 'payment_amount', 'payable_payment_same']]"
   ]
  },
  {
   "cell_type": "code",
   "execution_count": 272,
   "metadata": {},
   "outputs": [
    {
     "data": {
      "text/html": [
       "<div>\n",
       "<style scoped>\n",
       "    .dataframe tbody tr th:only-of-type {\n",
       "        vertical-align: middle;\n",
       "    }\n",
       "\n",
       "    .dataframe tbody tr th {\n",
       "        vertical-align: top;\n",
       "    }\n",
       "\n",
       "    .dataframe thead th {\n",
       "        text-align: right;\n",
       "    }\n",
       "</style>\n",
       "<table border=\"1\" class=\"dataframe\">\n",
       "  <thead>\n",
       "    <tr style=\"text-align: right;\">\n",
       "      <th></th>\n",
       "      <th>is_correct_linking</th>\n",
       "      <th>payable_amount</th>\n",
       "      <th>payment_amount</th>\n",
       "      <th>payable_payment_same</th>\n",
       "    </tr>\n",
       "  </thead>\n",
       "  <tbody>\n",
       "    <tr>\n",
       "      <th>0</th>\n",
       "      <td>0</td>\n",
       "      <td>416.21</td>\n",
       "      <td>604.44</td>\n",
       "      <td>0</td>\n",
       "    </tr>\n",
       "    <tr>\n",
       "      <th>1</th>\n",
       "      <td>0</td>\n",
       "      <td>49.83</td>\n",
       "      <td>19.87</td>\n",
       "      <td>0</td>\n",
       "    </tr>\n",
       "    <tr>\n",
       "      <th>2</th>\n",
       "      <td>0</td>\n",
       "      <td>86.01</td>\n",
       "      <td>54.95</td>\n",
       "      <td>0</td>\n",
       "    </tr>\n",
       "    <tr>\n",
       "      <th>3</th>\n",
       "      <td>0</td>\n",
       "      <td>16.99</td>\n",
       "      <td>295.00</td>\n",
       "      <td>0</td>\n",
       "    </tr>\n",
       "    <tr>\n",
       "      <th>4</th>\n",
       "      <td>1</td>\n",
       "      <td>12.28</td>\n",
       "      <td>12.28</td>\n",
       "      <td>1</td>\n",
       "    </tr>\n",
       "  </tbody>\n",
       "</table>\n",
       "</div>"
      ],
      "text/plain": [
       "   is_correct_linking  payable_amount  payment_amount  payable_payment_same\n",
       "0                   0          416.21          604.44                     0\n",
       "1                   0           49.83           19.87                     0\n",
       "2                   0           86.01           54.95                     0\n",
       "3                   0           16.99          295.00                     0\n",
       "4                   1           12.28           12.28                     1"
      ]
     },
     "execution_count": 272,
     "metadata": {},
     "output_type": "execute_result"
    }
   ],
   "source": [
    "df.head(5)"
   ]
  },
  {
   "cell_type": "markdown",
   "metadata": {},
   "source": [
    "Our dataframe looks good and for now, let's just follow our intuition that the main driver for predictive power is this relationship between the 2 \"payable amount\" and \"payment amount\" columns, while disregarding and dropping the date and text columns. If this works well, it can save us a lot of time for preprocessing the date and text as well as being less computationally expensive."
   ]
  },
  {
   "cell_type": "code",
   "execution_count": 273,
   "metadata": {},
   "outputs": [],
   "source": [
    "df['pay_diff'] = df['payable_amount'] - df['payment_amount']\n",
    "df['amount_ratio'] = np.round(df['payable_amount'] / df['payment_amount'], 2)"
   ]
  },
  {
   "cell_type": "markdown",
   "metadata": {},
   "source": [
    "Let's go a bit further, though, and engineer some features. We add 2 new columns, the first holding the difference between the \"payable amount\" and \"payment amount\" and the 2nd dividing the values of those columns for every row."
   ]
  },
  {
   "cell_type": "code",
   "execution_count": 274,
   "metadata": {},
   "outputs": [
    {
     "data": {
      "text/html": [
       "<div>\n",
       "<style scoped>\n",
       "    .dataframe tbody tr th:only-of-type {\n",
       "        vertical-align: middle;\n",
       "    }\n",
       "\n",
       "    .dataframe tbody tr th {\n",
       "        vertical-align: top;\n",
       "    }\n",
       "\n",
       "    .dataframe thead th {\n",
       "        text-align: right;\n",
       "    }\n",
       "</style>\n",
       "<table border=\"1\" class=\"dataframe\">\n",
       "  <thead>\n",
       "    <tr style=\"text-align: right;\">\n",
       "      <th></th>\n",
       "      <th>is_correct_linking</th>\n",
       "      <th>payable_amount</th>\n",
       "      <th>payment_amount</th>\n",
       "      <th>payable_payment_same</th>\n",
       "      <th>pay_diff</th>\n",
       "      <th>amount_ratio</th>\n",
       "    </tr>\n",
       "  </thead>\n",
       "  <tbody>\n",
       "    <tr>\n",
       "      <th>0</th>\n",
       "      <td>0</td>\n",
       "      <td>416.21</td>\n",
       "      <td>604.44</td>\n",
       "      <td>0</td>\n",
       "      <td>-188.23</td>\n",
       "      <td>0.69</td>\n",
       "    </tr>\n",
       "    <tr>\n",
       "      <th>1</th>\n",
       "      <td>0</td>\n",
       "      <td>49.83</td>\n",
       "      <td>19.87</td>\n",
       "      <td>0</td>\n",
       "      <td>29.96</td>\n",
       "      <td>2.51</td>\n",
       "    </tr>\n",
       "    <tr>\n",
       "      <th>2</th>\n",
       "      <td>0</td>\n",
       "      <td>86.01</td>\n",
       "      <td>54.95</td>\n",
       "      <td>0</td>\n",
       "      <td>31.06</td>\n",
       "      <td>1.57</td>\n",
       "    </tr>\n",
       "    <tr>\n",
       "      <th>3</th>\n",
       "      <td>0</td>\n",
       "      <td>16.99</td>\n",
       "      <td>295.00</td>\n",
       "      <td>0</td>\n",
       "      <td>-278.01</td>\n",
       "      <td>0.06</td>\n",
       "    </tr>\n",
       "    <tr>\n",
       "      <th>4</th>\n",
       "      <td>1</td>\n",
       "      <td>12.28</td>\n",
       "      <td>12.28</td>\n",
       "      <td>1</td>\n",
       "      <td>0.00</td>\n",
       "      <td>1.00</td>\n",
       "    </tr>\n",
       "  </tbody>\n",
       "</table>\n",
       "</div>"
      ],
      "text/plain": [
       "   is_correct_linking  payable_amount  payment_amount  payable_payment_same  \\\n",
       "0                   0          416.21          604.44                     0   \n",
       "1                   0           49.83           19.87                     0   \n",
       "2                   0           86.01           54.95                     0   \n",
       "3                   0           16.99          295.00                     0   \n",
       "4                   1           12.28           12.28                     1   \n",
       "\n",
       "   pay_diff  amount_ratio  \n",
       "0   -188.23          0.69  \n",
       "1     29.96          2.51  \n",
       "2     31.06          1.57  \n",
       "3   -278.01          0.06  \n",
       "4      0.00          1.00  "
      ]
     },
     "execution_count": 274,
     "metadata": {},
     "output_type": "execute_result"
    }
   ],
   "source": [
    "df.head()"
   ]
  },
  {
   "cell_type": "code",
   "execution_count": 275,
   "metadata": {},
   "outputs": [
    {
     "name": "stdout",
     "output_type": "stream",
     "text": [
      "data point including outliers: 2000\n",
      "data point excluding outliers: 1851\n"
     ]
    }
   ],
   "source": [
    "isof = IsolationForest(max_samples=500)\n",
    "df['outlier'] = isof.fit_predict(df['pay_diff'].to_numpy().reshape(-1,1))\n",
    "print('data point including outliers:', len(df))\n",
    "df = df.loc[df['outlier'] == 1]\n",
    "df.drop('outlier', axis=1, inplace=True)\n",
    "print('data point excluding outliers:', len(df))"
   ]
  },
  {
   "cell_type": "markdown",
   "metadata": {},
   "source": [
    "we then use the isolation forest methodology on the newly created \"difference\" column to remove outliers. This is an unsupervised approach, so fitting on the entire data is okay as no data leakage occurs. feel free to read further for how exactly isolation forests work: https://cs.nju.edu.cn/zhouzh/zhouzh.files/publication/tkdd11.pdf\n",
    "\n",
    "We can see that 153 rows have been tagged and removed as outliers, which corresponds to around 7-8% of our data. Without prior domain knowledge, using this mathematical approach to identify outliers, is the next best solution in my opinion."
   ]
  },
  {
   "cell_type": "code",
   "execution_count": 276,
   "metadata": {},
   "outputs": [],
   "source": [
    "X_train, X_test, y_train, y_test = train_test_split(df.drop('is_correct_linking', axis=1), df['is_correct_linking'], test_size=0.33, random_state=42, stratify=df['is_correct_linking'])\n",
    "df_train = pd.concat([X_train, y_train], axis=1)\n",
    "df_test = pd.concat([X_test, y_test], axis=1)"
   ]
  },
  {
   "cell_type": "markdown",
   "metadata": {},
   "source": [
    "We then split the data into training and test data set and make sure we stratify it by our target feature so that both splits have the same 69/31 distribution of our target feature in order to retain the validity of our baseline."
   ]
  },
  {
   "cell_type": "code",
   "execution_count": 277,
   "metadata": {},
   "outputs": [],
   "source": [
    "params_xgb = {\"n_estimators\": [10,20,50,100],\n",
    "              \"max_depth\": list(range(1, 11)),\n",
    "              \"learning_rate\": [1e-3, 1e-2, 1e-1, 0.5, 1.],\n",
    "              \"subsample\": list(np.arange(0.05, 1.01, 0.05)),\n",
    "              \"min_child_weight\": list(range(1, 21)),\n",
    "              \"colsample_bytree\": list(np.arange(0.1,1,0.1)),\n",
    "              \"reg_lambda\": [1e-4, 1e-3, 1e-2, 1e-1, 0.5, 1., 5., 10., 15., 20., 25.],\n",
    "              \"reg_alpha\": [1e-4, 1e-3, 1e-2, 1e-1, 0.5, 1., 5., 10., 15., 20., 25.]\n",
    "\n",
    "              }\n",
    "xgb = XGBClassifier()\n",
    "acs = make_scorer(accuracy_score, greater_is_better=True)\n",
    "bcv = BayesSearchCV(xgb, params_xgb,cv=5, n_iter=50, random_state=42, verbose=0, n_jobs=1, n_points=50, scoring=acs)"
   ]
  },
  {
   "cell_type": "markdown",
   "metadata": {},
   "source": [
    "we create instances of our xgboost implementation of a gradient boosting trees algorithm with a corresponding parameter space, our accuracy score as well as bayesian hyperparameter optimization and k-fold cross validation."
   ]
  },
  {
   "cell_type": "code",
   "execution_count": 278,
   "metadata": {},
   "outputs": [],
   "source": [
    "with warnings.catch_warnings():\n",
    "    #The Bayes Optimizer Library throws some pretty lenghty FutureWarnings during fitting. We will ignore them.\n",
    "    warnings.filterwarnings(\"ignore\")\n",
    "    bcv.fit(X_train, y_train)"
   ]
  },
  {
   "cell_type": "code",
   "execution_count": 279,
   "metadata": {},
   "outputs": [
    {
     "name": "stdout",
     "output_type": "stream",
     "text": [
      "Mean accuracy CV score xgb: 93.23\n"
     ]
    }
   ],
   "source": [
    "print(\"Mean accuracy CV score xgb:\", round(bcv.best_score_*100, 2))"
   ]
  },
  {
   "cell_type": "markdown",
   "metadata": {},
   "source": [
    "We run the cross validation and hyperparameter optimization and after it is finished, print the mean accuracy for all folds for the algorithm with the optimized parameters. The result is a very good one at 93.2% mean accuracy. Let's hope that we can achieve similar accuracy on our test data."
   ]
  },
  {
   "cell_type": "code",
   "execution_count": 280,
   "metadata": {},
   "outputs": [
    {
     "data": {
      "text/plain": [
       "XGBClassifier(base_score=0.5, booster='gbtree', colsample_bylevel=1,\n",
       "              colsample_bynode=1, colsample_bytree=0.30000000000000004, gamma=0,\n",
       "              gpu_id=-1, importance_type='gain', interaction_constraints='',\n",
       "              learning_rate=0.001, max_delta_step=0, max_depth=7,\n",
       "              min_child_weight=4, missing=nan, monotone_constraints='()',\n",
       "              n_estimators=100, n_jobs=0, num_parallel_tree=1,\n",
       "              objective='binary:logistic', random_state=0, reg_alpha=0.0001,\n",
       "              reg_lambda=0.001, scale_pos_weight=1, subsample=0.5,\n",
       "              tree_method='exact', validate_parameters=1, verbosity=None)"
      ]
     },
     "execution_count": 280,
     "metadata": {},
     "output_type": "execute_result"
    }
   ],
   "source": [
    "xgbc = bcv.best_estimator_\n",
    "xgbc.fit(X_train, y_train)"
   ]
  },
  {
   "cell_type": "code",
   "execution_count": 281,
   "metadata": {},
   "outputs": [],
   "source": [
    "y_pred = xgbc.predict(X_test)"
   ]
  },
  {
   "cell_type": "markdown",
   "metadata": {},
   "source": [
    "next, we print the optimized parameters and fit the optimized algorithm on the entire training data and then let it predict on the unseen test data."
   ]
  },
  {
   "cell_type": "code",
   "execution_count": 282,
   "metadata": {},
   "outputs": [
    {
     "name": "stdout",
     "output_type": "stream",
     "text": [
      "test data accuracy: 95.09 %\n"
     ]
    }
   ],
   "source": [
    "acc = accuracy_score(y_test, y_pred)\n",
    "print('test data accuracy:', np.round(acc,4)*100,'%')"
   ]
  },
  {
   "cell_type": "markdown",
   "metadata": {},
   "source": [
    "And the result is actually slightly better with 95.1% accuracy."
   ]
  },
  {
   "cell_type": "code",
   "execution_count": 283,
   "metadata": {},
   "outputs": [
    {
     "name": "stdout",
     "output_type": "stream",
     "text": [
      "matthews correlation coefficient: 0.89\n",
      "precision: 0.96\n",
      "recall: 0.88\n",
      "f1 score: 0.92\n"
     ]
    }
   ],
   "source": [
    "print('matthews correlation coefficient:',np.round(matthews_corrcoef(y_test, y_pred), 2))\n",
    "print('precision:',np.round(precision_score(y_test, y_pred), 2))\n",
    "print('recall:',np.round(recall_score(y_test, y_pred), 2))\n",
    "print('f1 score:',np.round(f1_score(y_test, y_pred), 2))"
   ]
  },
  {
   "cell_type": "code",
   "execution_count": 284,
   "metadata": {},
   "outputs": [
    {
     "data": {
      "text/html": [
       "<div>\n",
       "<style scoped>\n",
       "    .dataframe tbody tr th:only-of-type {\n",
       "        vertical-align: middle;\n",
       "    }\n",
       "\n",
       "    .dataframe tbody tr th {\n",
       "        vertical-align: top;\n",
       "    }\n",
       "\n",
       "    .dataframe thead th {\n",
       "        text-align: right;\n",
       "    }\n",
       "</style>\n",
       "<table border=\"1\" class=\"dataframe\">\n",
       "  <thead>\n",
       "    <tr style=\"text-align: right;\">\n",
       "      <th>actual</th>\n",
       "      <th>0</th>\n",
       "      <th>1</th>\n",
       "    </tr>\n",
       "    <tr>\n",
       "      <th>predicted</th>\n",
       "      <th></th>\n",
       "      <th></th>\n",
       "    </tr>\n",
       "  </thead>\n",
       "  <tbody>\n",
       "    <tr>\n",
       "      <th>0</th>\n",
       "      <td>407</td>\n",
       "      <td>23</td>\n",
       "    </tr>\n",
       "    <tr>\n",
       "      <th>1</th>\n",
       "      <td>7</td>\n",
       "      <td>174</td>\n",
       "    </tr>\n",
       "  </tbody>\n",
       "</table>\n",
       "</div>"
      ],
      "text/plain": [
       "actual       0    1\n",
       "predicted          \n",
       "0          407   23\n",
       "1            7  174"
      ]
     },
     "execution_count": 284,
     "metadata": {},
     "output_type": "execute_result"
    }
   ],
   "source": [
    "pd.crosstab(y_pred, y_test, \n",
    "            rownames=['predicted'], \n",
    "            colnames=['actual'], margins=False, margins_name=\"Total\")"
   ]
  },
  {
   "cell_type": "markdown",
   "metadata": {},
   "source": [
    "let us also try some other evaluation metrics such as precision, recall, f1-score as well as a confusion matrix. All of them validate the great accuracy score achieved previously."
   ]
  },
  {
   "cell_type": "markdown",
   "metadata": {},
   "source": [
    "# Conclusion\n",
    "\n",
    "In the end, we can conclude that we have achieved a very satisfying result. What validates this result even more is the low amount of time, effort and complexity required to achieve it. All it took was some very high level analysis combined with simple feature engineering in order to achieve a result 26% above the baseline. \n",
    "\n",
    "This model can effortlessly be put into production and generate added value immediately, while one can work on tweaking it to achieve even better results in the second iteration. A great MVP!\n",
    "\n",
    "This is a prime example of how being a good data scientist isn't always about using a newest, complex algorithm but more so about understanding the data in a simple intuitiv way and leveraging that into a productive model."
   ]
  }
 ],
 "metadata": {
  "kernelspec": {
   "display_name": "Python 3",
   "language": "python",
   "name": "python3"
  },
  "language_info": {
   "codemirror_mode": {
    "name": "ipython",
    "version": 3
   },
   "file_extension": ".py",
   "mimetype": "text/x-python",
   "name": "python",
   "nbconvert_exporter": "python",
   "pygments_lexer": "ipython3",
   "version": "3.7.6"
  }
 },
 "nbformat": 4,
 "nbformat_minor": 4
}
